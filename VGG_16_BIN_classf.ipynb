{
 "cells": [
  {
   "cell_type": "code",
   "execution_count": 1,
   "metadata": {},
   "outputs": [],
   "source": [
    "import torchvision \n",
    "import torch.nn as nn \n",
    "import torch \n",
    "import torch.nn.functional as F \n",
    "from torchvision import transforms,models,datasets \n",
    "import matplotlib.pyplot as plt \n",
    "from PIL import Image \n",
    "import numpy as np \n",
    "from torch import optim \n",
    "\n",
    "from torch.utils.data import Dataset, DataLoader, random_split\n",
    "import pandas as pd\n",
    "import seaborn as sns"
   ]
  },
  {
   "cell_type": "code",
   "execution_count": 2,
   "metadata": {},
   "outputs": [],
   "source": [
    "data_dir = \"C:/Users/ENVY/Downloads/dataset/dataset/train_images\"\n",
    "\n",
    "transform = transforms.Compose([transforms.Resize(255), \n",
    "    transforms.CenterCrop(224), \n",
    "    transforms.RandomHorizontalFlip(),                            \n",
    "    transforms.ToTensor(),\n",
    "    transforms.Normalize([0.485, 0.456, 0.406], \n",
    "                             [0.229, 0.224, 0.225])]) \n",
    "\n",
    "dataset = torchvision.datasets.ImageFolder(data_dir, transform= transform)\n"
   ]
  },
  {
   "cell_type": "code",
   "execution_count": 4,
   "metadata": {},
   "outputs": [],
   "source": [
    "# SPLITING DATASET: 80 % TRAINING ,20 % VALIDATION \n",
    "train_dataset, val_dataset = random_split(dataset,(110,43))"
   ]
  },
  {
   "cell_type": "code",
   "execution_count": 5,
   "metadata": {},
   "outputs": [
    {
     "name": "stdout",
     "output_type": "stream",
     "text": [
      "Length of the train_loader: 4\n",
      "Length of the val_loader: 43\n"
     ]
    }
   ],
   "source": [
    "training_loader = DataLoader(dataset=train_dataset, shuffle=True, batch_size=32)\n",
    "val_loader = DataLoader(dataset=val_dataset, shuffle=False, batch_size=1)\n",
    "\n",
    "print(\"Length of the train_loader:\", len(training_loader))\n",
    "print(\"Length of the val_loader:\", len(val_loader))"
   ]
  },
  {
   "cell_type": "code",
   "execution_count": 6,
   "metadata": {},
   "outputs": [
    {
     "data": {
      "text/plain": [
       "(torch.Size([32, 3, 224, 224]), torch.Size([32]))"
      ]
     },
     "execution_count": 6,
     "metadata": {},
     "output_type": "execute_result"
    }
   ],
   "source": [
    "inputs, classes = next(iter(training_loader))  \n",
    "inputs.shape,classes.shape"
   ]
  },
  {
   "cell_type": "code",
   "execution_count": 7,
   "metadata": {},
   "outputs": [
    {
     "name": "stdout",
     "output_type": "stream",
     "text": [
      "Running on the GPU\n"
     ]
    }
   ],
   "source": [
    "\n",
    "device = torch.device(\"cuda:0\")\n",
    "if torch.cuda.is_available():\n",
    "    device = torch.device(\"cuda:0\")  #\n",
    "    print(\"Running on the GPU\")\n",
    "else:\n",
    "    device = torch.device(\"cpu\")\n",
    "    print(\"Running on the CPU\")"
   ]
  },
  {
   "cell_type": "code",
   "execution_count": 8,
   "metadata": {
    "collapsed": true,
    "jupyter": {
     "outputs_hidden": true
    }
   },
   "outputs": [
    {
     "name": "stdout",
     "output_type": "stream",
     "text": [
      "VGG(\n",
      "  (features): Sequential(\n",
      "    (0): Conv2d(3, 64, kernel_size=(3, 3), stride=(1, 1), padding=(1, 1))\n",
      "    (1): ReLU(inplace=True)\n",
      "    (2): Conv2d(64, 64, kernel_size=(3, 3), stride=(1, 1), padding=(1, 1))\n",
      "    (3): ReLU(inplace=True)\n",
      "    (4): MaxPool2d(kernel_size=2, stride=2, padding=0, dilation=1, ceil_mode=False)\n",
      "    (5): Conv2d(64, 128, kernel_size=(3, 3), stride=(1, 1), padding=(1, 1))\n",
      "    (6): ReLU(inplace=True)\n",
      "    (7): Conv2d(128, 128, kernel_size=(3, 3), stride=(1, 1), padding=(1, 1))\n",
      "    (8): ReLU(inplace=True)\n",
      "    (9): MaxPool2d(kernel_size=2, stride=2, padding=0, dilation=1, ceil_mode=False)\n",
      "    (10): Conv2d(128, 256, kernel_size=(3, 3), stride=(1, 1), padding=(1, 1))\n",
      "    (11): ReLU(inplace=True)\n",
      "    (12): Conv2d(256, 256, kernel_size=(3, 3), stride=(1, 1), padding=(1, 1))\n",
      "    (13): ReLU(inplace=True)\n",
      "    (14): Conv2d(256, 256, kernel_size=(3, 3), stride=(1, 1), padding=(1, 1))\n",
      "    (15): ReLU(inplace=True)\n",
      "    (16): MaxPool2d(kernel_size=2, stride=2, padding=0, dilation=1, ceil_mode=False)\n",
      "    (17): Conv2d(256, 512, kernel_size=(3, 3), stride=(1, 1), padding=(1, 1))\n",
      "    (18): ReLU(inplace=True)\n",
      "    (19): Conv2d(512, 512, kernel_size=(3, 3), stride=(1, 1), padding=(1, 1))\n",
      "    (20): ReLU(inplace=True)\n",
      "    (21): Conv2d(512, 512, kernel_size=(3, 3), stride=(1, 1), padding=(1, 1))\n",
      "    (22): ReLU(inplace=True)\n",
      "    (23): MaxPool2d(kernel_size=2, stride=2, padding=0, dilation=1, ceil_mode=False)\n",
      "    (24): Conv2d(512, 512, kernel_size=(3, 3), stride=(1, 1), padding=(1, 1))\n",
      "    (25): ReLU(inplace=True)\n",
      "    (26): Conv2d(512, 512, kernel_size=(3, 3), stride=(1, 1), padding=(1, 1))\n",
      "    (27): ReLU(inplace=True)\n",
      "    (28): Conv2d(512, 512, kernel_size=(3, 3), stride=(1, 1), padding=(1, 1))\n",
      "    (29): ReLU(inplace=True)\n",
      "    (30): MaxPool2d(kernel_size=2, stride=2, padding=0, dilation=1, ceil_mode=False)\n",
      "  )\n",
      "  (avgpool): AdaptiveAvgPool2d(output_size=(7, 7))\n",
      "  (classifier): Sequential(\n",
      "    (0): Linear(in_features=25088, out_features=4096, bias=True)\n",
      "    (1): ReLU(inplace=True)\n",
      "    (2): Linear(in_features=4096, out_features=128, bias=True)\n",
      "    (3): ReLU(inplace=True)\n",
      "    (4): Linear(in_features=128, out_features=1, bias=True)\n",
      "    (5): Sigmoid()\n",
      "  )\n",
      ")\n"
     ]
    }
   ],
   "source": [
    "\n",
    "# DEFINING MODEL VGG16\n",
    "\n",
    "model = models.vgg16(pretrained=True).to(device) # freeze all the parameters except the final layer     \n",
    "for param in model.parameters():\n",
    "    param.requires_grad = False   \n",
    "    \n",
    "classifier = nn.Sequential(\n",
    "               nn.Linear(25088, 4096),\n",
    "               nn.ReLU(inplace=True),\n",
    "               nn.Linear(4096, 128),\n",
    "               nn.ReLU(inplace=True),\n",
    "               nn.Linear(128, 1),\n",
    "               nn.Sigmoid()).to(device)\n",
    "model.classifier = classifier\n",
    "print(model)"
   ]
  },
  {
   "cell_type": "code",
   "execution_count": 9,
   "metadata": {},
   "outputs": [
    {
     "name": "stdout",
     "output_type": "stream",
     "text": [
      "torch.Size([32, 3, 224, 224])\n"
     ]
    },
    {
     "data": {
      "text/plain": [
       "torch.Size([32, 1])"
      ]
     },
     "execution_count": 9,
     "metadata": {},
     "output_type": "execute_result"
    }
   ],
   "source": [
    "img = inputs.to(device)\n",
    "print(img.shape)\n",
    "a = model(img)\n",
    "a.shape"
   ]
  },
  {
   "cell_type": "code",
   "execution_count": 10,
   "metadata": {},
   "outputs": [],
   "source": [
    "import torch.optim as optim\n",
    "\n",
    "\n",
    "criterion = nn.BCELoss()\n",
    "optimizer = optim.Adam(model.classifier.parameters(), lr=0.001)\n",
    "\n"
   ]
  },
  {
   "cell_type": "code",
   "execution_count": 12,
   "metadata": {},
   "outputs": [],
   "source": [
    "def binary_acc(y_pred, y_test):\n",
    "    y_pred_tag = torch.round(y_pred)\n",
    "    \n",
    "    correct_result_sum = (y_pred_tag == y_test).sum().float()\n",
    "    acc = correct_result_sum/y_test.shape[0]\n",
    "    acc  = torch.round(acc*100)\n",
    "    \n",
    "    return acc\n",
    "    "
   ]
  },
  {
   "cell_type": "code",
   "execution_count": 13,
   "metadata": {},
   "outputs": [],
   "source": [
    "torch.cuda.empty_cache()"
   ]
  },
  {
   "cell_type": "code",
   "execution_count": 14,
   "metadata": {},
   "outputs": [
    {
     "name": "stdout",
     "output_type": "stream",
     "text": [
      "Begin training...\n",
      "Epoch: 0| train-loss: 1.5248943567276| val-loss: 0.42408196099622303 | train_accuracy : 59.0 | val_accuracy : 83.72093023255815 \n",
      "Epoch: 1| train-loss: 0.2187842670828104| val-loss: 0.05597782549913581 | train_accuracy : 96.0 | val_accuracy : 97.67441860465117 \n",
      "Epoch: 2| train-loss: 0.04073968200827949| val-loss: 0.013175102959423363 | train_accuracy : 99.25 | val_accuracy : 100.0 \n",
      "Epoch: 3| train-loss: 0.010516111564356834| val-loss: 0.05101923278205896 | train_accuracy : 99.25 | val_accuracy : 97.67441860465117 \n",
      "Epoch: 4| train-loss: 0.02135911344521446| val-loss: 0.0022063435094360974 | train_accuracy : 99.25 | val_accuracy : 100.0 \n",
      "Epoch: 5| train-loss: 0.00019100708050245885| val-loss: 0.001319958858243676 | train_accuracy : 100.0 | val_accuracy : 100.0 \n",
      "Epoch: 6| train-loss: 0.00022542470560438232| val-loss: 0.001967463315375936 | train_accuracy : 100.0 | val_accuracy : 100.0 \n",
      "Epoch: 7| train-loss: 0.0003132557303615613| val-loss: 0.00395539372826589 | train_accuracy : 100.0 | val_accuracy : 100.0 \n",
      "Epoch: 8| train-loss: 0.00018419733169139363| val-loss: 0.008363623905428299 | train_accuracy : 100.0 | val_accuracy : 100.0 \n",
      "Epoch: 9| train-loss: 0.00019083224651694763| val-loss: 0.00908627739883991 | train_accuracy : 100.0 | val_accuracy : 100.0 \n",
      "Epoch: 10| train-loss: 0.00014789083724053853| val-loss: 0.006325038907298909 | train_accuracy : 100.0 | val_accuracy : 100.0 \n",
      "Epoch: 11| train-loss: 0.00016864630197233055| val-loss: 0.005825213570776893 | train_accuracy : 100.0 | val_accuracy : 100.0 \n",
      "Epoch: 12| train-loss: 0.00013150766790204216| val-loss: 0.004821977480749603 | train_accuracy : 100.0 | val_accuracy : 100.0 \n",
      "Epoch: 13| train-loss: 0.0001113877005991526| val-loss: 0.005709775210180219 | train_accuracy : 100.0 | val_accuracy : 100.0 \n",
      "Epoch: 14| train-loss: 6.418836710508913e-05| val-loss: 0.004633905378172088 | train_accuracy : 100.0 | val_accuracy : 100.0 \n",
      "Epoch: 15| train-loss: 4.8165063169847144e-05| val-loss: 0.0038258650572955306 | train_accuracy : 100.0 | val_accuracy : 100.0 \n",
      "Epoch: 16| train-loss: 5.773558950750157e-05| val-loss: 0.0032430910532034456 | train_accuracy : 100.0 | val_accuracy : 100.0 \n",
      "Epoch: 17| train-loss: 5.221386891207658e-05| val-loss: 0.0017993504850516919 | train_accuracy : 100.0 | val_accuracy : 100.0 \n",
      "Epoch: 18| train-loss: 3.533738345140591e-05| val-loss: 0.002437884791659197 | train_accuracy : 100.0 | val_accuracy : 100.0 \n"
     ]
    }
   ],
   "source": [
    "# TRAINING THE MODEL\n",
    "print(\"Begin training...\")\n",
    "\n",
    "accuracy_stats = {\n",
    "    'train': [],\n",
    "    \"val\": []\n",
    "             }\n",
    "loss_stats = {\n",
    "    'train': [],\n",
    "    \"val\": []\n",
    "             }\n",
    "Epochs= 19\n",
    "\n",
    "for epoch in range(Epochs):\n",
    "\n",
    "    # TRAINING\n",
    "    \n",
    "    train_epoch_loss = 0\n",
    "    train_epoch_acc  = 0\n",
    "    \n",
    "    model.train()\n",
    "    for X_train_batch, y_train_batch in training_loader:\n",
    "        y_train_batch = y_train_batch.to(torch.float32)\n",
    "        X_train_batch , y_train_batch = X_train_batch.to(device), y_train_batch.to(device)\n",
    "        \n",
    "        optimizer.zero_grad()\n",
    "        \n",
    "        y_train_pred  = model(X_train_batch)\n",
    "        \n",
    "        train_loss = criterion( y_train_pred,y_train_batch.unsqueeze(1))\n",
    "        train_acc = binary_acc(y_train_pred,y_train_batch.unsqueeze(1))\n",
    "        \n",
    "        train_loss.backward()\n",
    "        optimizer.step()\n",
    "        \n",
    "        train_epoch_loss += train_loss.item()\n",
    "        train_epoch_acc += train_acc.item()\n",
    "        \n",
    "    # VALIDATION \n",
    "    \n",
    "    with torch.no_grad():\n",
    "        model.eval()\n",
    "        val_epoch_loss = 0\n",
    "        val_epoch_acc = 0\n",
    "    \n",
    "        for X_val_batch, y_val_batch in val_loader:\n",
    "            y_val_batch = y_val_batch.to(torch.float32)\n",
    "            X_val_batch, y_val_batch = X_val_batch.to(device), y_val_batch.to(device)\n",
    "\n",
    "            y_val_pred = model(X_val_batch)\n",
    "            #y_val_pred = torch.unsqueeze(y_val_pred, 0)\n",
    "\n",
    "            val_loss = criterion(y_val_pred, y_val_batch.unsqueeze(1))\n",
    "            val_acc = binary_acc(y_val_pred, y_val_batch.unsqueeze(1))\n",
    "\n",
    "            val_epoch_loss += val_loss.item()\n",
    "            val_epoch_acc += val_acc.item()\n",
    "        \n",
    "    loss_stats['train'].append(train_epoch_loss/len(training_loader))\n",
    "    loss_stats['val'].append(val_epoch_loss/len(val_loader))\n",
    "    accuracy_stats['train'].append(train_epoch_acc/len(training_loader))\n",
    "    accuracy_stats['val'].append(val_epoch_acc/len(val_loader)) \n",
    "            \n",
    "    print(f\"Epoch: {epoch}| train-loss: {train_epoch_loss/len(training_loader)}| val-loss: {val_epoch_loss/len(val_loader)} | train_accuracy : {train_epoch_acc/len(training_loader)} | val_accuracy : {val_epoch_acc/len(val_loader)} \")\n",
    "      "
   ]
  },
  {
   "cell_type": "code",
   "execution_count": 15,
   "metadata": {},
   "outputs": [
    {
     "data": {
      "image/png": "[encoded data removed]",
      "text/plain": [
       "<Figure size 432x288 with 1 Axes>"
      ]
     },
     "metadata": {
      "needs_background": "light"
     },
     "output_type": "display_data"
    }
   ],
   "source": [
    "# PLOTTING THE LOSSES\n",
    "for v,c in sorted(loss_stats.items()):\n",
    "    plt.plot(c,label=v)\n",
    "plt.xlabel('epochs')\n",
    "plt.title('Losses')\n",
    "plt.legend()\n",
    "plt.show()\n",
    "#plt.plot(loss)"
   ]
  },
  {
   "cell_type": "code",
   "execution_count": 16,
   "metadata": {},
   "outputs": [
    {
     "data": {
      "image/png": "[encoded data removed]",
      "text/plain": [
       "<Figure size 432x288 with 1 Axes>"
      ]
     },
     "metadata": {
      "needs_background": "light"
     },
     "output_type": "display_data"
    }
   ],
   "source": [
    "# PLOTTING THE ACCURACIES\n",
    "for v,c in sorted(accuracy_stats.items()):\n",
    "    plt.plot(c,label=v)\n",
    "plt.xlabel('epochs')\n",
    "plt.title('acurracys')\n",
    "plt.legend()\n",
    "plt.show()"
   ]
  },
  {
   "cell_type": "code",
   "execution_count": 17,
   "metadata": {},
   "outputs": [],
   "source": [
    "torch.save(model.state_dict(), 'reda_vgg16_transferlearning.pth')"
   ]
  },
  {
   "cell_type": "code",
   "execution_count": 18,
   "metadata": {
    "collapsed": true,
    "jupyter": {
     "outputs_hidden": true
    }
   },
   "outputs": [
    {
     "data": {
      "text/plain": [
       "VGG(\n",
       "  (features): Sequential(\n",
       "    (0): Conv2d(3, 64, kernel_size=(3, 3), stride=(1, 1), padding=(1, 1))\n",
       "    (1): ReLU(inplace=True)\n",
       "    (2): Conv2d(64, 64, kernel_size=(3, 3), stride=(1, 1), padding=(1, 1))\n",
       "    (3): ReLU(inplace=True)\n",
       "    (4): MaxPool2d(kernel_size=2, stride=2, padding=0, dilation=1, ceil_mode=False)\n",
       "    (5): Conv2d(64, 128, kernel_size=(3, 3), stride=(1, 1), padding=(1, 1))\n",
       "    (6): ReLU(inplace=True)\n",
       "    (7): Conv2d(128, 128, kernel_size=(3, 3), stride=(1, 1), padding=(1, 1))\n",
       "    (8): ReLU(inplace=True)\n",
       "    (9): MaxPool2d(kernel_size=2, stride=2, padding=0, dilation=1, ceil_mode=False)\n",
       "    (10): Conv2d(128, 256, kernel_size=(3, 3), stride=(1, 1), padding=(1, 1))\n",
       "    (11): ReLU(inplace=True)\n",
       "    (12): Conv2d(256, 256, kernel_size=(3, 3), stride=(1, 1), padding=(1, 1))\n",
       "    (13): ReLU(inplace=True)\n",
       "    (14): Conv2d(256, 256, kernel_size=(3, 3), stride=(1, 1), padding=(1, 1))\n",
       "    (15): ReLU(inplace=True)\n",
       "    (16): MaxPool2d(kernel_size=2, stride=2, padding=0, dilation=1, ceil_mode=False)\n",
       "    (17): Conv2d(256, 512, kernel_size=(3, 3), stride=(1, 1), padding=(1, 1))\n",
       "    (18): ReLU(inplace=True)\n",
       "    (19): Conv2d(512, 512, kernel_size=(3, 3), stride=(1, 1), padding=(1, 1))\n",
       "    (20): ReLU(inplace=True)\n",
       "    (21): Conv2d(512, 512, kernel_size=(3, 3), stride=(1, 1), padding=(1, 1))\n",
       "    (22): ReLU(inplace=True)\n",
       "    (23): MaxPool2d(kernel_size=2, stride=2, padding=0, dilation=1, ceil_mode=False)\n",
       "    (24): Conv2d(512, 512, kernel_size=(3, 3), stride=(1, 1), padding=(1, 1))\n",
       "    (25): ReLU(inplace=True)\n",
       "    (26): Conv2d(512, 512, kernel_size=(3, 3), stride=(1, 1), padding=(1, 1))\n",
       "    (27): ReLU(inplace=True)\n",
       "    (28): Conv2d(512, 512, kernel_size=(3, 3), stride=(1, 1), padding=(1, 1))\n",
       "    (29): ReLU(inplace=True)\n",
       "    (30): MaxPool2d(kernel_size=2, stride=2, padding=0, dilation=1, ceil_mode=False)\n",
       "  )\n",
       "  (avgpool): AdaptiveAvgPool2d(output_size=(7, 7))\n",
       "  (classifier): Sequential(\n",
       "    (0): Linear(in_features=25088, out_features=4096, bias=True)\n",
       "    (1): ReLU(inplace=True)\n",
       "    (2): Linear(in_features=4096, out_features=128, bias=True)\n",
       "    (3): ReLU(inplace=True)\n",
       "    (4): Linear(in_features=128, out_features=1, bias=True)\n",
       "    (5): Sigmoid()\n",
       "  )\n",
       ")"
      ]
     },
     "execution_count": 18,
     "metadata": {},
     "output_type": "execute_result"
    }
   ],
   "source": [
    "model.load_state_dict(torch.load('reda_vgg16_transferlearning.pth'))\n",
    "model.eval()"
   ]
  },
  {
   "cell_type": "code",
   "execution_count": 19,
   "metadata": {},
   "outputs": [],
   "source": [
    "# PREPARING TESTING DATA\n",
    "data_dir = \"C:/Users/ENVY/Downloads/dataset/dataset/test_images\"\n",
    "\n",
    "\n",
    "transforms2 = transforms.Compose([transforms.Resize((224,224)),\n",
    "                                  \n",
    "                                  transforms.ToTensor(),\n",
    "                                 transforms.Normalize(mean=[0.485, 0.456, 0.406],\n",
    "                                                       std=[0.229, 0.224, 0.225])\n",
    "                                                           ])\n",
    "\n",
    "dataset2 =datasets.ImageFolder(data_dir, transform= transforms2)\n",
    "test_loader = torch.utils.data.DataLoader(dataset2, batch_size=1 ,shuffle=True) "
   ]
  },
  {
   "cell_type": "code",
   "execution_count": 20,
   "metadata": {},
   "outputs": [
    {
     "name": "stdout",
     "output_type": "stream",
     "text": [
      "10\n"
     ]
    },
    {
     "data": {
      "text/plain": [
       "{'fields': 0, 'roads': 1}"
      ]
     },
     "execution_count": 20,
     "metadata": {},
     "output_type": "execute_result"
    }
   ],
   "source": [
    "print(len(test_loader))\n",
    "dataset2.class_to_idx"
   ]
  },
  {
   "cell_type": "code",
   "execution_count": 21,
   "metadata": {},
   "outputs": [],
   "source": [
    "# TESTING\n",
    "y_true =[]\n",
    "y_predicted = []\n",
    "\n",
    "with torch.no_grad():\n",
    "    for batch_x, batch_y in test_loader:\n",
    "        batch_x,batch_y = batch_x.to(device),batch_y.to(device)\n",
    "        \n",
    "        y_test_pred = model(batch_x)\n",
    "        y_pred_tag = torch.round(y_test_pred)\n",
    "        \n",
    "       \n",
    "        y_predicted.append(y_pred_tag.cpu().numpy())\n",
    "        y_true.append(batch_y.cpu().numpy())"
   ]
  },
  {
   "cell_type": "code",
   "execution_count": 22,
   "metadata": {},
   "outputs": [],
   "source": [
    "y_predicted = np.array(y_predicted)\n",
    "y_predicted = y_predicted.reshape(10,)\n",
    "\n",
    "y_true =  np.array(y_true)\n",
    "y_true = y_true.reshape(10,)\n",
    "\n"
   ]
  },
  {
   "cell_type": "code",
   "execution_count": 23,
   "metadata": {},
   "outputs": [
    {
     "data": {
      "text/plain": [
       "<matplotlib.axes._subplots.AxesSubplot at 0x15e014f5cc8>"
      ]
     },
     "execution_count": 23,
     "metadata": {},
     "output_type": "execute_result"
    },
    {
     "data": {
      "image/png": "[encoded data removed]",
      "text/plain": [
       "<Figure size 504x360 with 2 Axes>"
      ]
     },
     "metadata": {
      "needs_background": "light"
     },
     "output_type": "display_data"
    }
   ],
   "source": [
    "# PLOTTING HEATMAP OF THE CONFUSION MATRIX\n",
    "from sklearn.metrics import confusion_matrix, classification_report\n",
    "idx2class = {v: k for k, v in dataset2.class_to_idx.items()}\n",
    "confusion_matrix_df = pd.DataFrame(confusion_matrix(y_true, y_predicted)).rename(columns=idx2class, index=idx2class)\n",
    "fig, ax = plt.subplots(figsize=(7,5))         \n",
    "sns.heatmap(confusion_matrix_df, annot=True, ax=ax)"
   ]
  },
  {
   "cell_type": "code",
   "execution_count": 24,
   "metadata": {},
   "outputs": [
    {
     "name": "stdout",
     "output_type": "stream",
     "text": [
      "              precision    recall  f1-score   support\n",
      "\n",
      "         0.0       0.50      1.00      0.67         2\n",
      "         1.0       1.00      0.75      0.86         8\n",
      "\n",
      "    accuracy                           0.80        10\n",
      "   macro avg       0.75      0.88      0.76        10\n",
      "weighted avg       0.90      0.80      0.82        10\n",
      "\n"
     ]
    }
   ],
   "source": [
    "# PLOTTING THE CLASSIFICATION REPORT\n",
    "print(classification_report(y_predicted, y_true))"
   ]
  },
  {
   "cell_type": "code",
   "execution_count": 25,
   "metadata": {},
   "outputs": [
    {
     "data": {
      "text/plain": [
       "Text(0, 0.5, 'True Positive Rate')"
      ]
     },
     "execution_count": 25,
     "metadata": {},
     "output_type": "execute_result"
    },
    {
     "data": {
      "image/png": "[encoded data removed]",
      "text/plain": [
       "<Figure size 576x396 with 1 Axes>"
      ]
     },
     "metadata": {},
     "output_type": "display_data"
    }
   ],
   "source": [
    "# PLOTTING THE ROC CURVE\n",
    "from sklearn.metrics import roc_curve\n",
    "\n",
    "fpr, tpr, threshold = roc_curve(y_predicted,y_true, pos_label = 1)\n",
    "\n",
    "import matplotlib.pyplot as plt \n",
    "plt.style.use('seaborn')\n",
    "\n",
    "plt.plot(fpr,tpr,  linestyle = '--', color = 'blue', label = 'VGG16')\n",
    "plt.title('ROC curve')\n",
    "plt.xlabel('False Positive Rate')\n",
    "plt.ylabel('True Positive Rate')"
   ]
  },
  {
   "cell_type": "code",
   "execution_count": null,
   "metadata": {},
   "outputs": [],
   "source": []
  }
 ],
 "metadata": {
  "kernelspec": {
   "display_name": "Python 3 (ipykernel)",
   "language": "python",
   "name": "python3"
  },
  "language_info": {
   "codemirror_mode": {
    "name": "ipython",
    "version": 3
   },
   "file_extension": ".py",
   "mimetype": "text/x-python",
   "name": "python",
   "nbconvert_exporter": "python",
   "pygments_lexer": "ipython3",
   "version": "3.10.2"
  }
 },
 "nbformat": 4,
 "nbformat_minor": 4
}
